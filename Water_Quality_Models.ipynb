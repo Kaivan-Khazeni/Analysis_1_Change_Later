{
  "nbformat": 4,
  "nbformat_minor": 0,
  "metadata": {
    "colab": {
      "name": "Water_Quality_Models.ipynb",
      "provenance": [],
      "toc_visible": true,
      "authorship_tag": "ABX9TyOpJOhSUWrSUXiMoXpCAmRg",
      "include_colab_link": true
    },
    "kernelspec": {
      "name": "python3",
      "display_name": "Python 3"
    },
    "language_info": {
      "name": "python"
    }
  },
  "cells": [
    {
      "cell_type": "markdown",
      "metadata": {
        "id": "view-in-github",
        "colab_type": "text"
      },
      "source": [
        "<a href=\"https://colab.research.google.com/github/Kaivan-Khazeni/WaterQualityModel/blob/main/Water_Quality_Models.ipynb\" target=\"_parent\"><img src=\"https://colab.research.google.com/assets/colab-badge.svg\" alt=\"Open In Colab\"/></a>"
      ]
    },
    {
      "cell_type": "markdown",
      "source": [
        "**Kaivan Khazeni**\n",
        "\n",
        "May 2nd, 2022\n",
        "\n",
        "Dataset : Water Potability (via [Kaggle](https://www.kaggle.com/datasets/adityakadiwal/water-potability?select=water_potability.csv))\n",
        "\n",
        "Goal: Determine if water is drinkable given other metrics. 0 and 1 indicate drinkable vs. not drinkable.\n",
        "\n"
      ],
      "metadata": {
        "id": "UO7e1SIzJ9wa"
      }
    },
    {
      "cell_type": "markdown",
      "source": [
        "The goal of this module is to implement models and compare accuracy results. Also, run parameter tuning to enhance model scores.\n",
        "\n",
        "The data set as a target domain of {0,1} meaning a binary classification. \n",
        "\n",
        "Models of choice:\n",
        "\n",
        "\n",
        "1.   KNN - K Nearest Neighbors Classification Model\n",
        "2.   Naive Bayes Classifcation Model\n",
        "3.   Logistic Regression\n",
        "4.   RandomForest\n",
        "5.   XGBoost\n",
        "\n",
        "Proper data processing will be done prior to model implementation."
      ],
      "metadata": {
        "id": "hU9y_fQOLg_D"
      }
    },
    {
      "cell_type": "markdown",
      "source": [
        "#Packages and Imports"
      ],
      "metadata": {
        "id": "ifhaf09EMCsN"
      }
    },
    {
      "cell_type": "code",
      "source": [
        "import pandas as pd\n",
        "import io\n",
        "%matplotlib inline\n",
        "import matplotlib.pyplot as plt\n",
        "plt.style.use('seaborn-whitegrid')\n",
        "import seaborn as sns\n",
        "\n",
        "\n",
        "import numpy as np\n",
        "import statsmodels.formula.api as smf\n",
        "import seaborn as sb\n",
        "\n",
        "\n",
        "import sklearn.metrics as metrics\n",
        "from sklearn.model_selection import train_test_split, cross_validate\n",
        "from sklearn.neighbors import KNeighborsClassifier\n",
        "from sklearn.naive_bayes import GaussianNB\n",
        "\n",
        "\n",
        "# Data Pre-processing Libraries\n",
        "from sklearn.preprocessing import StandardScaler,MinMaxScaler\n",
        "from sklearn.model_selection import train_test_split\n",
        "\n",
        "# Modelling Libraries\n",
        "from sklearn.linear_model import LogisticRegression\n",
        "from sklearn.linear_model import Perceptron\n",
        "from sklearn.neighbors import KNeighborsClassifier\n",
        "from sklearn.ensemble import RandomForestClassifier,AdaBoostClassifier,GradientBoostingClassifier\n",
        "from sklearn.naive_bayes import GaussianNB\n",
        "from sklearn.ensemble import VotingClassifier\n",
        "import xgboost as xgb\n",
        "from xgboost import XGBClassifier\n",
        "from sklearn.metrics import mean_squared_error\n",
        "\n",
        "# Evaluation & CV Libraries\n",
        "from sklearn.metrics import precision_score,accuracy_score\n",
        "from sklearn.model_selection import RandomizedSearchCV,GridSearchCV,RepeatedStratifiedKFold"
      ],
      "metadata": {
        "colab": {
          "base_uri": "https://localhost:8080/"
        },
        "id": "WWDFfycpLVZr",
        "outputId": "a8dcc8be-6ba2-4831-f8aa-dbae62ca6774"
      },
      "execution_count": 1,
      "outputs": [
        {
          "output_type": "stream",
          "name": "stderr",
          "text": [
            "/usr/local/lib/python3.7/dist-packages/statsmodels/tools/_testing.py:19: FutureWarning: pandas.util.testing is deprecated. Use the functions in the public API at pandas.testing instead.\n",
            "  import pandas.util.testing as tm\n"
          ]
        }
      ]
    },
    {
      "cell_type": "markdown",
      "source": [
        "# Data Retrieval and Processing"
      ],
      "metadata": {
        "id": "hDm06JmHMFcm"
      }
    },
    {
      "cell_type": "markdown",
      "source": [
        "The data was found via Kaggle, however in order for others to run this colab file, I uploaded to Google spreadsheet and now am reading that public spreadsheet. Please click on ss_link to view original file:"
      ],
      "metadata": {
        "id": "_fDgwcwsMCG0"
      }
    },
    {
      "cell_type": "code",
      "execution_count": 2,
      "metadata": {
        "id": "ymquqURGJ4wK"
      },
      "outputs": [],
      "source": [
        "ss_link = \"https://docs.google.com/spreadsheets/d/1h5L6sYQb5aw_rLSQaRamdKH94wtLkeDxGaQeTn4Cp6A/edit#gid=1338418011\"\n",
        "new_link = \"https://docs.google.com/spreadsheets/d/1h5L6sYQb5aw_rLSQaRamdKH94wtLkeDxGaQeTn4Cp6A/export?format=csv&gid=1338418011\""
      ]
    },
    {
      "cell_type": "code",
      "source": [
        "df = pd.read_csv(new_link)\n",
        "df.head(5)"
      ],
      "metadata": {
        "colab": {
          "base_uri": "https://localhost:8080/",
          "height": 250
        },
        "id": "lB70AgCsLYWo",
        "outputId": "012438c6-1059-46b8-f51b-5492d1ec2939"
      },
      "execution_count": 3,
      "outputs": [
        {
          "output_type": "execute_result",
          "data": {
            "text/plain": [
              "         ph    Hardness       Solids  Chloramines     Sulfate  Conductivity  \\\n",
              "0       NaN  204.890456  20791.31898     7.300212  368.516441    564.308654   \n",
              "1  3.716080  129.422921  18630.05786     6.635246         NaN    592.885359   \n",
              "2  8.099124  224.236259  19909.54173     9.275884         NaN    418.606213   \n",
              "3  8.316766  214.373394  22018.41744     8.059332  356.886136    363.266516   \n",
              "4  9.092223  181.101509  17978.98634     6.546600  310.135738    398.410813   \n",
              "\n",
              "   Organic_carbon  Trihalomethanes  Turbidity  Potability  \n",
              "0       10.379783        86.990970   2.963135           0  \n",
              "1       15.180013        56.329076   4.500656           0  \n",
              "2       16.868637        66.420093   3.055934           0  \n",
              "3       18.436525       100.341674   4.628771           0  \n",
              "4       11.558279        31.997993   4.075075           0  "
            ],
            "text/html": [
              "\n",
              "  <div id=\"df-252c0145-876e-4762-aa7f-1a910bddca88\">\n",
              "    <div class=\"colab-df-container\">\n",
              "      <div>\n",
              "<style scoped>\n",
              "    .dataframe tbody tr th:only-of-type {\n",
              "        vertical-align: middle;\n",
              "    }\n",
              "\n",
              "    .dataframe tbody tr th {\n",
              "        vertical-align: top;\n",
              "    }\n",
              "\n",
              "    .dataframe thead th {\n",
              "        text-align: right;\n",
              "    }\n",
              "</style>\n",
              "<table border=\"1\" class=\"dataframe\">\n",
              "  <thead>\n",
              "    <tr style=\"text-align: right;\">\n",
              "      <th></th>\n",
              "      <th>ph</th>\n",
              "      <th>Hardness</th>\n",
              "      <th>Solids</th>\n",
              "      <th>Chloramines</th>\n",
              "      <th>Sulfate</th>\n",
              "      <th>Conductivity</th>\n",
              "      <th>Organic_carbon</th>\n",
              "      <th>Trihalomethanes</th>\n",
              "      <th>Turbidity</th>\n",
              "      <th>Potability</th>\n",
              "    </tr>\n",
              "  </thead>\n",
              "  <tbody>\n",
              "    <tr>\n",
              "      <th>0</th>\n",
              "      <td>NaN</td>\n",
              "      <td>204.890456</td>\n",
              "      <td>20791.31898</td>\n",
              "      <td>7.300212</td>\n",
              "      <td>368.516441</td>\n",
              "      <td>564.308654</td>\n",
              "      <td>10.379783</td>\n",
              "      <td>86.990970</td>\n",
              "      <td>2.963135</td>\n",
              "      <td>0</td>\n",
              "    </tr>\n",
              "    <tr>\n",
              "      <th>1</th>\n",
              "      <td>3.716080</td>\n",
              "      <td>129.422921</td>\n",
              "      <td>18630.05786</td>\n",
              "      <td>6.635246</td>\n",
              "      <td>NaN</td>\n",
              "      <td>592.885359</td>\n",
              "      <td>15.180013</td>\n",
              "      <td>56.329076</td>\n",
              "      <td>4.500656</td>\n",
              "      <td>0</td>\n",
              "    </tr>\n",
              "    <tr>\n",
              "      <th>2</th>\n",
              "      <td>8.099124</td>\n",
              "      <td>224.236259</td>\n",
              "      <td>19909.54173</td>\n",
              "      <td>9.275884</td>\n",
              "      <td>NaN</td>\n",
              "      <td>418.606213</td>\n",
              "      <td>16.868637</td>\n",
              "      <td>66.420093</td>\n",
              "      <td>3.055934</td>\n",
              "      <td>0</td>\n",
              "    </tr>\n",
              "    <tr>\n",
              "      <th>3</th>\n",
              "      <td>8.316766</td>\n",
              "      <td>214.373394</td>\n",
              "      <td>22018.41744</td>\n",
              "      <td>8.059332</td>\n",
              "      <td>356.886136</td>\n",
              "      <td>363.266516</td>\n",
              "      <td>18.436525</td>\n",
              "      <td>100.341674</td>\n",
              "      <td>4.628771</td>\n",
              "      <td>0</td>\n",
              "    </tr>\n",
              "    <tr>\n",
              "      <th>4</th>\n",
              "      <td>9.092223</td>\n",
              "      <td>181.101509</td>\n",
              "      <td>17978.98634</td>\n",
              "      <td>6.546600</td>\n",
              "      <td>310.135738</td>\n",
              "      <td>398.410813</td>\n",
              "      <td>11.558279</td>\n",
              "      <td>31.997993</td>\n",
              "      <td>4.075075</td>\n",
              "      <td>0</td>\n",
              "    </tr>\n",
              "  </tbody>\n",
              "</table>\n",
              "</div>\n",
              "      <button class=\"colab-df-convert\" onclick=\"convertToInteractive('df-252c0145-876e-4762-aa7f-1a910bddca88')\"\n",
              "              title=\"Convert this dataframe to an interactive table.\"\n",
              "              style=\"display:none;\">\n",
              "        \n",
              "  <svg xmlns=\"http://www.w3.org/2000/svg\" height=\"24px\"viewBox=\"0 0 24 24\"\n",
              "       width=\"24px\">\n",
              "    <path d=\"M0 0h24v24H0V0z\" fill=\"none\"/>\n",
              "    <path d=\"M18.56 5.44l.94 2.06.94-2.06 2.06-.94-2.06-.94-.94-2.06-.94 2.06-2.06.94zm-11 1L8.5 8.5l.94-2.06 2.06-.94-2.06-.94L8.5 2.5l-.94 2.06-2.06.94zm10 10l.94 2.06.94-2.06 2.06-.94-2.06-.94-.94-2.06-.94 2.06-2.06.94z\"/><path d=\"M17.41 7.96l-1.37-1.37c-.4-.4-.92-.59-1.43-.59-.52 0-1.04.2-1.43.59L10.3 9.45l-7.72 7.72c-.78.78-.78 2.05 0 2.83L4 21.41c.39.39.9.59 1.41.59.51 0 1.02-.2 1.41-.59l7.78-7.78 2.81-2.81c.8-.78.8-2.07 0-2.86zM5.41 20L4 18.59l7.72-7.72 1.47 1.35L5.41 20z\"/>\n",
              "  </svg>\n",
              "      </button>\n",
              "      \n",
              "  <style>\n",
              "    .colab-df-container {\n",
              "      display:flex;\n",
              "      flex-wrap:wrap;\n",
              "      gap: 12px;\n",
              "    }\n",
              "\n",
              "    .colab-df-convert {\n",
              "      background-color: #E8F0FE;\n",
              "      border: none;\n",
              "      border-radius: 50%;\n",
              "      cursor: pointer;\n",
              "      display: none;\n",
              "      fill: #1967D2;\n",
              "      height: 32px;\n",
              "      padding: 0 0 0 0;\n",
              "      width: 32px;\n",
              "    }\n",
              "\n",
              "    .colab-df-convert:hover {\n",
              "      background-color: #E2EBFA;\n",
              "      box-shadow: 0px 1px 2px rgba(60, 64, 67, 0.3), 0px 1px 3px 1px rgba(60, 64, 67, 0.15);\n",
              "      fill: #174EA6;\n",
              "    }\n",
              "\n",
              "    [theme=dark] .colab-df-convert {\n",
              "      background-color: #3B4455;\n",
              "      fill: #D2E3FC;\n",
              "    }\n",
              "\n",
              "    [theme=dark] .colab-df-convert:hover {\n",
              "      background-color: #434B5C;\n",
              "      box-shadow: 0px 1px 3px 1px rgba(0, 0, 0, 0.15);\n",
              "      filter: drop-shadow(0px 1px 2px rgba(0, 0, 0, 0.3));\n",
              "      fill: #FFFFFF;\n",
              "    }\n",
              "  </style>\n",
              "\n",
              "      <script>\n",
              "        const buttonEl =\n",
              "          document.querySelector('#df-252c0145-876e-4762-aa7f-1a910bddca88 button.colab-df-convert');\n",
              "        buttonEl.style.display =\n",
              "          google.colab.kernel.accessAllowed ? 'block' : 'none';\n",
              "\n",
              "        async function convertToInteractive(key) {\n",
              "          const element = document.querySelector('#df-252c0145-876e-4762-aa7f-1a910bddca88');\n",
              "          const dataTable =\n",
              "            await google.colab.kernel.invokeFunction('convertToInteractive',\n",
              "                                                     [key], {});\n",
              "          if (!dataTable) return;\n",
              "\n",
              "          const docLinkHtml = 'Like what you see? Visit the ' +\n",
              "            '<a target=\"_blank\" href=https://colab.research.google.com/notebooks/data_table.ipynb>data table notebook</a>'\n",
              "            + ' to learn more about interactive tables.';\n",
              "          element.innerHTML = '';\n",
              "          dataTable['output_type'] = 'display_data';\n",
              "          await google.colab.output.renderOutput(dataTable, element);\n",
              "          const docLink = document.createElement('div');\n",
              "          docLink.innerHTML = docLinkHtml;\n",
              "          element.appendChild(docLink);\n",
              "        }\n",
              "      </script>\n",
              "    </div>\n",
              "  </div>\n",
              "  "
            ]
          },
          "metadata": {},
          "execution_count": 3
        }
      ]
    },
    {
      "cell_type": "markdown",
      "source": [
        "Right away, we see NaN values, meaning an entry/row had missing data for that individual report of sample.\n",
        "\n",
        "The columns are all float types, except for the target variable , 'Potability'"
      ],
      "metadata": {
        "id": "UtYjGQkFMupC"
      }
    },
    {
      "cell_type": "code",
      "source": [
        "df.columns"
      ],
      "metadata": {
        "colab": {
          "base_uri": "https://localhost:8080/"
        },
        "id": "HyipCel0LYmM",
        "outputId": "fc272a03-9fc8-48df-ee0c-d3aa41573418"
      },
      "execution_count": 4,
      "outputs": [
        {
          "output_type": "execute_result",
          "data": {
            "text/plain": [
              "Index(['ph', 'Hardness', 'Solids', 'Chloramines', 'Sulfate', 'Conductivity',\n",
              "       'Organic_carbon', 'Trihalomethanes', 'Turbidity', 'Potability'],\n",
              "      dtype='object')"
            ]
          },
          "metadata": {},
          "execution_count": 4
        }
      ]
    },
    {
      "cell_type": "markdown",
      "source": [
        "ph: pH of 1. water (0 to 14).\n",
        "\n",
        "Hardness: Capacity of water to precipitate soap in mg/L.\n",
        "\n",
        "Solids: Total dissolved solids in ppm.\n",
        "\n",
        "Chloramines: Amount of Chloramines in ppm.\n",
        "\n",
        "Sulfate: Amount of Sulfates dissolved in mg/L.\n",
        "\n",
        "Conductivity: Electrical conductivity of water in μS/cm.\n",
        "\n",
        "Organic_carbon: Amount of organic carbon in ppm.\n",
        "\n",
        "Trihalomethanes: Amount of Trihalomethanes in μg/L.\n",
        "\n",
        "Turbidity: Measure of light emiting property of water in NTU.\n",
        "\n",
        "Potability: Indicates if water is safe for human consumption. Potable - 1 and Not potable - 0"
      ],
      "metadata": {
        "id": "jtU2KrmydkRF"
      }
    },
    {
      "cell_type": "code",
      "source": [
        "df.shape"
      ],
      "metadata": {
        "colab": {
          "base_uri": "https://localhost:8080/"
        },
        "id": "1cDJxVo8M14Q",
        "outputId": "51190c2b-ab94-4815-b862-d2df9486cc09"
      },
      "execution_count": 5,
      "outputs": [
        {
          "output_type": "execute_result",
          "data": {
            "text/plain": [
              "(3276, 10)"
            ]
          },
          "metadata": {},
          "execution_count": 5
        }
      ]
    },
    {
      "cell_type": "code",
      "source": [
        "#Check for missing data\n",
        "print(df.isnull().sum())"
      ],
      "metadata": {
        "colab": {
          "base_uri": "https://localhost:8080/"
        },
        "id": "GCFmzKXLND27",
        "outputId": "cedc0310-64ec-4ae2-b7ba-841764bafe51"
      },
      "execution_count": 6,
      "outputs": [
        {
          "output_type": "stream",
          "name": "stdout",
          "text": [
            "ph                 491\n",
            "Hardness             0\n",
            "Solids               0\n",
            "Chloramines          0\n",
            "Sulfate            781\n",
            "Conductivity         0\n",
            "Organic_carbon       0\n",
            "Trihalomethanes    162\n",
            "Turbidity            0\n",
            "Potability           0\n",
            "dtype: int64\n"
          ]
        }
      ]
    },
    {
      "cell_type": "markdown",
      "source": [
        "In regards to missing data, the approaches vary. Considering the size of the data set (3276 entries), removing a mass amount of 781 entries (in regards to the Sulfate column) could have an adverse effect in our accuracy of our model.\n",
        "\n",
        "To fill these column values, I will fill with the median of the column values. The reason for median over mean or mode is that if there is noise in the data, such as outliers, we want to avoid those impacting our model as much as possible."
      ],
      "metadata": {
        "id": "ismFoTu2NPwr"
      }
    },
    {
      "cell_type": "code",
      "source": [
        "df['ph'].fillna((df['ph'].median()), inplace=True)\n",
        "df['Sulfate'].fillna((df['Sulfate'].median()), inplace=True)\n",
        "df['Trihalomethanes'].fillna((df['Trihalomethanes'].median()), inplace=True)"
      ],
      "metadata": {
        "id": "UEJf-Zp-NOBL"
      },
      "execution_count": 7,
      "outputs": []
    },
    {
      "cell_type": "code",
      "source": [
        "#Check for missing data\n",
        "print(df.isnull().sum())\n"
      ],
      "metadata": {
        "colab": {
          "base_uri": "https://localhost:8080/"
        },
        "id": "B-CK5OQDORNG",
        "outputId": "6a337658-bb5b-474d-b6d8-dff4ad43e574"
      },
      "execution_count": 8,
      "outputs": [
        {
          "output_type": "stream",
          "name": "stdout",
          "text": [
            "ph                 0\n",
            "Hardness           0\n",
            "Solids             0\n",
            "Chloramines        0\n",
            "Sulfate            0\n",
            "Conductivity       0\n",
            "Organic_carbon     0\n",
            "Trihalomethanes    0\n",
            "Turbidity          0\n",
            "Potability         0\n",
            "dtype: int64\n"
          ]
        }
      ]
    },
    {
      "cell_type": "markdown",
      "source": [
        "At this point, all missing data is filled with medians of their respective columns "
      ],
      "metadata": {
        "id": "8bEFTNvEOUNq"
      }
    },
    {
      "cell_type": "code",
      "source": [
        "df.describe()"
      ],
      "metadata": {
        "colab": {
          "base_uri": "https://localhost:8080/",
          "height": 364
        },
        "id": "E3r_ADCNOTHk",
        "outputId": "3989a19e-fc7c-4e84-abd6-5bd571cd3485"
      },
      "execution_count": 9,
      "outputs": [
        {
          "output_type": "execute_result",
          "data": {
            "text/plain": [
              "                ph     Hardness        Solids  Chloramines      Sulfate  \\\n",
              "count  3276.000000  3276.000000   3276.000000  3276.000000  3276.000000   \n",
              "mean      7.074194   196.369496  22014.092526     7.122277   333.608364   \n",
              "std       1.470040    32.879761   8768.570828     1.583085    36.143851   \n",
              "min       0.000000    47.432000    320.942611     0.352000   129.000000   \n",
              "25%       6.277673   176.850538  15666.690300     6.127421   317.094638   \n",
              "50%       7.036752   196.967627  20927.833605     7.130299   333.073546   \n",
              "75%       7.870050   216.667456  27332.762125     8.114887   350.385756   \n",
              "max      14.000000   323.124000  61227.196010    13.127000   481.030642   \n",
              "\n",
              "       Conductivity  Organic_carbon  Trihalomethanes    Turbidity   Potability  \n",
              "count   3276.000000     3276.000000      3276.000000  3276.000000  3276.000000  \n",
              "mean     426.205111       14.284970        66.407478     3.966786     0.390110  \n",
              "std       80.824064        3.308162        15.769958     0.780382     0.487849  \n",
              "min      181.483754        2.200000         0.738000     1.450000     0.000000  \n",
              "25%      365.734414       12.065801        56.647656     3.439711     0.000000  \n",
              "50%      421.884968       14.218338        66.622485     3.955028     0.000000  \n",
              "75%      481.792305       16.557652        76.666609     4.500320     1.000000  \n",
              "max      753.342620       28.300000       124.000000     6.739000     1.000000  "
            ],
            "text/html": [
              "\n",
              "  <div id=\"df-8c829414-cd66-40cc-b8fe-dd726996e3e9\">\n",
              "    <div class=\"colab-df-container\">\n",
              "      <div>\n",
              "<style scoped>\n",
              "    .dataframe tbody tr th:only-of-type {\n",
              "        vertical-align: middle;\n",
              "    }\n",
              "\n",
              "    .dataframe tbody tr th {\n",
              "        vertical-align: top;\n",
              "    }\n",
              "\n",
              "    .dataframe thead th {\n",
              "        text-align: right;\n",
              "    }\n",
              "</style>\n",
              "<table border=\"1\" class=\"dataframe\">\n",
              "  <thead>\n",
              "    <tr style=\"text-align: right;\">\n",
              "      <th></th>\n",
              "      <th>ph</th>\n",
              "      <th>Hardness</th>\n",
              "      <th>Solids</th>\n",
              "      <th>Chloramines</th>\n",
              "      <th>Sulfate</th>\n",
              "      <th>Conductivity</th>\n",
              "      <th>Organic_carbon</th>\n",
              "      <th>Trihalomethanes</th>\n",
              "      <th>Turbidity</th>\n",
              "      <th>Potability</th>\n",
              "    </tr>\n",
              "  </thead>\n",
              "  <tbody>\n",
              "    <tr>\n",
              "      <th>count</th>\n",
              "      <td>3276.000000</td>\n",
              "      <td>3276.000000</td>\n",
              "      <td>3276.000000</td>\n",
              "      <td>3276.000000</td>\n",
              "      <td>3276.000000</td>\n",
              "      <td>3276.000000</td>\n",
              "      <td>3276.000000</td>\n",
              "      <td>3276.000000</td>\n",
              "      <td>3276.000000</td>\n",
              "      <td>3276.000000</td>\n",
              "    </tr>\n",
              "    <tr>\n",
              "      <th>mean</th>\n",
              "      <td>7.074194</td>\n",
              "      <td>196.369496</td>\n",
              "      <td>22014.092526</td>\n",
              "      <td>7.122277</td>\n",
              "      <td>333.608364</td>\n",
              "      <td>426.205111</td>\n",
              "      <td>14.284970</td>\n",
              "      <td>66.407478</td>\n",
              "      <td>3.966786</td>\n",
              "      <td>0.390110</td>\n",
              "    </tr>\n",
              "    <tr>\n",
              "      <th>std</th>\n",
              "      <td>1.470040</td>\n",
              "      <td>32.879761</td>\n",
              "      <td>8768.570828</td>\n",
              "      <td>1.583085</td>\n",
              "      <td>36.143851</td>\n",
              "      <td>80.824064</td>\n",
              "      <td>3.308162</td>\n",
              "      <td>15.769958</td>\n",
              "      <td>0.780382</td>\n",
              "      <td>0.487849</td>\n",
              "    </tr>\n",
              "    <tr>\n",
              "      <th>min</th>\n",
              "      <td>0.000000</td>\n",
              "      <td>47.432000</td>\n",
              "      <td>320.942611</td>\n",
              "      <td>0.352000</td>\n",
              "      <td>129.000000</td>\n",
              "      <td>181.483754</td>\n",
              "      <td>2.200000</td>\n",
              "      <td>0.738000</td>\n",
              "      <td>1.450000</td>\n",
              "      <td>0.000000</td>\n",
              "    </tr>\n",
              "    <tr>\n",
              "      <th>25%</th>\n",
              "      <td>6.277673</td>\n",
              "      <td>176.850538</td>\n",
              "      <td>15666.690300</td>\n",
              "      <td>6.127421</td>\n",
              "      <td>317.094638</td>\n",
              "      <td>365.734414</td>\n",
              "      <td>12.065801</td>\n",
              "      <td>56.647656</td>\n",
              "      <td>3.439711</td>\n",
              "      <td>0.000000</td>\n",
              "    </tr>\n",
              "    <tr>\n",
              "      <th>50%</th>\n",
              "      <td>7.036752</td>\n",
              "      <td>196.967627</td>\n",
              "      <td>20927.833605</td>\n",
              "      <td>7.130299</td>\n",
              "      <td>333.073546</td>\n",
              "      <td>421.884968</td>\n",
              "      <td>14.218338</td>\n",
              "      <td>66.622485</td>\n",
              "      <td>3.955028</td>\n",
              "      <td>0.000000</td>\n",
              "    </tr>\n",
              "    <tr>\n",
              "      <th>75%</th>\n",
              "      <td>7.870050</td>\n",
              "      <td>216.667456</td>\n",
              "      <td>27332.762125</td>\n",
              "      <td>8.114887</td>\n",
              "      <td>350.385756</td>\n",
              "      <td>481.792305</td>\n",
              "      <td>16.557652</td>\n",
              "      <td>76.666609</td>\n",
              "      <td>4.500320</td>\n",
              "      <td>1.000000</td>\n",
              "    </tr>\n",
              "    <tr>\n",
              "      <th>max</th>\n",
              "      <td>14.000000</td>\n",
              "      <td>323.124000</td>\n",
              "      <td>61227.196010</td>\n",
              "      <td>13.127000</td>\n",
              "      <td>481.030642</td>\n",
              "      <td>753.342620</td>\n",
              "      <td>28.300000</td>\n",
              "      <td>124.000000</td>\n",
              "      <td>6.739000</td>\n",
              "      <td>1.000000</td>\n",
              "    </tr>\n",
              "  </tbody>\n",
              "</table>\n",
              "</div>\n",
              "      <button class=\"colab-df-convert\" onclick=\"convertToInteractive('df-8c829414-cd66-40cc-b8fe-dd726996e3e9')\"\n",
              "              title=\"Convert this dataframe to an interactive table.\"\n",
              "              style=\"display:none;\">\n",
              "        \n",
              "  <svg xmlns=\"http://www.w3.org/2000/svg\" height=\"24px\"viewBox=\"0 0 24 24\"\n",
              "       width=\"24px\">\n",
              "    <path d=\"M0 0h24v24H0V0z\" fill=\"none\"/>\n",
              "    <path d=\"M18.56 5.44l.94 2.06.94-2.06 2.06-.94-2.06-.94-.94-2.06-.94 2.06-2.06.94zm-11 1L8.5 8.5l.94-2.06 2.06-.94-2.06-.94L8.5 2.5l-.94 2.06-2.06.94zm10 10l.94 2.06.94-2.06 2.06-.94-2.06-.94-.94-2.06-.94 2.06-2.06.94z\"/><path d=\"M17.41 7.96l-1.37-1.37c-.4-.4-.92-.59-1.43-.59-.52 0-1.04.2-1.43.59L10.3 9.45l-7.72 7.72c-.78.78-.78 2.05 0 2.83L4 21.41c.39.39.9.59 1.41.59.51 0 1.02-.2 1.41-.59l7.78-7.78 2.81-2.81c.8-.78.8-2.07 0-2.86zM5.41 20L4 18.59l7.72-7.72 1.47 1.35L5.41 20z\"/>\n",
              "  </svg>\n",
              "      </button>\n",
              "      \n",
              "  <style>\n",
              "    .colab-df-container {\n",
              "      display:flex;\n",
              "      flex-wrap:wrap;\n",
              "      gap: 12px;\n",
              "    }\n",
              "\n",
              "    .colab-df-convert {\n",
              "      background-color: #E8F0FE;\n",
              "      border: none;\n",
              "      border-radius: 50%;\n",
              "      cursor: pointer;\n",
              "      display: none;\n",
              "      fill: #1967D2;\n",
              "      height: 32px;\n",
              "      padding: 0 0 0 0;\n",
              "      width: 32px;\n",
              "    }\n",
              "\n",
              "    .colab-df-convert:hover {\n",
              "      background-color: #E2EBFA;\n",
              "      box-shadow: 0px 1px 2px rgba(60, 64, 67, 0.3), 0px 1px 3px 1px rgba(60, 64, 67, 0.15);\n",
              "      fill: #174EA6;\n",
              "    }\n",
              "\n",
              "    [theme=dark] .colab-df-convert {\n",
              "      background-color: #3B4455;\n",
              "      fill: #D2E3FC;\n",
              "    }\n",
              "\n",
              "    [theme=dark] .colab-df-convert:hover {\n",
              "      background-color: #434B5C;\n",
              "      box-shadow: 0px 1px 3px 1px rgba(0, 0, 0, 0.15);\n",
              "      filter: drop-shadow(0px 1px 2px rgba(0, 0, 0, 0.3));\n",
              "      fill: #FFFFFF;\n",
              "    }\n",
              "  </style>\n",
              "\n",
              "      <script>\n",
              "        const buttonEl =\n",
              "          document.querySelector('#df-8c829414-cd66-40cc-b8fe-dd726996e3e9 button.colab-df-convert');\n",
              "        buttonEl.style.display =\n",
              "          google.colab.kernel.accessAllowed ? 'block' : 'none';\n",
              "\n",
              "        async function convertToInteractive(key) {\n",
              "          const element = document.querySelector('#df-8c829414-cd66-40cc-b8fe-dd726996e3e9');\n",
              "          const dataTable =\n",
              "            await google.colab.kernel.invokeFunction('convertToInteractive',\n",
              "                                                     [key], {});\n",
              "          if (!dataTable) return;\n",
              "\n",
              "          const docLinkHtml = 'Like what you see? Visit the ' +\n",
              "            '<a target=\"_blank\" href=https://colab.research.google.com/notebooks/data_table.ipynb>data table notebook</a>'\n",
              "            + ' to learn more about interactive tables.';\n",
              "          element.innerHTML = '';\n",
              "          dataTable['output_type'] = 'display_data';\n",
              "          await google.colab.output.renderOutput(dataTable, element);\n",
              "          const docLink = document.createElement('div');\n",
              "          docLink.innerHTML = docLinkHtml;\n",
              "          element.appendChild(docLink);\n",
              "        }\n",
              "      </script>\n",
              "    </div>\n",
              "  </div>\n",
              "  "
            ]
          },
          "metadata": {},
          "execution_count": 9
        }
      ]
    },
    {
      "cell_type": "markdown",
      "source": [
        "## Visualizing Distribution of Columns"
      ],
      "metadata": {
        "id": "m5G8zExlhQGe"
      }
    },
    {
      "cell_type": "code",
      "source": [
        "x = [len(df[df['Potability']==0]),len(df[df['Potability']==1])]\n",
        "labels = ['Not Drinkable', 'Drinkable']\n",
        "\n",
        "fig, ax = plt.subplots()\n",
        "ax.pie(x, labels = labels,autopct='%.0f%%')\n",
        "ax.set_title('Distribution of Potability Score')\n",
        "plt.show()"
      ],
      "metadata": {
        "colab": {
          "base_uri": "https://localhost:8080/",
          "height": 263
        },
        "id": "n3-0FGNLfFhs",
        "outputId": "2ba03a52-a6a0-45a9-cb92-36f820fe7e00"
      },
      "execution_count": 10,
      "outputs": [
        {
          "output_type": "display_data",
          "data": {
            "text/plain": [
              "<Figure size 432x288 with 1 Axes>"
            ],
            "image/png": "[encoded data removed]"
          },
          "metadata": {}
        }
      ]
    },
    {
      "cell_type": "markdown",
      "source": [
        "We see that the split is roughly 60-40 in favor of 0 (non potable). This is not drastic however if needed, we can oversample the drinkable entries, or remove at random the non-drinkable entries to get a 50-50 split\n",
        "\n",
        "Next up, we want to visualize the distributions of the other metrics we will be using in our model, or observe normality or lack there of."
      ],
      "metadata": {
        "id": "V093HlrVfhCM"
      }
    },
    {
      "cell_type": "code",
      "source": [
        "#PH\n",
        "sns.distplot(a=df['ph'], color='red',\n",
        "             hist_kws={\"edgecolor\": 'white'})\n",
        " \n",
        "plt.show()"
      ],
      "metadata": {
        "colab": {
          "base_uri": "https://localhost:8080/",
          "height": 331
        },
        "id": "snp6R4uxf4cz",
        "outputId": "0d08f756-64d9-45bb-9405-ee979c49064c"
      },
      "execution_count": 11,
      "outputs": [
        {
          "output_type": "stream",
          "name": "stderr",
          "text": [
            "/usr/local/lib/python3.7/dist-packages/seaborn/distributions.py:2619: FutureWarning: `distplot` is a deprecated function and will be removed in a future version. Please adapt your code to use either `displot` (a figure-level function with similar flexibility) or `histplot` (an axes-level function for histograms).\n",
            "  warnings.warn(msg, FutureWarning)\n"
          ]
        },
        {
          "output_type": "display_data",
          "data": {
            "text/plain": [
              "<Figure size 432x288 with 1 Axes>"
            ],
            "image/png": "[encoded data removed]"
          },
          "metadata": {
            "needs_background": "light"
          }
        }
      ]
    },
    {
      "cell_type": "code",
      "source": [
        "#Hardness\n",
        "sns.distplot(a=df['Hardness'], color='red',\n",
        "             hist_kws={\"edgecolor\": 'white'})\n",
        " \n",
        "plt.show()"
      ],
      "metadata": {
        "colab": {
          "base_uri": "https://localhost:8080/",
          "height": 331
        },
        "id": "LkxK_2LFgoBY",
        "outputId": "24ad6089-7a53-4439-ed35-c5a8809f5dd9"
      },
      "execution_count": 12,
      "outputs": [
        {
          "output_type": "stream",
          "name": "stderr",
          "text": [
            "/usr/local/lib/python3.7/dist-packages/seaborn/distributions.py:2619: FutureWarning: `distplot` is a deprecated function and will be removed in a future version. Please adapt your code to use either `displot` (a figure-level function with similar flexibility) or `histplot` (an axes-level function for histograms).\n",
            "  warnings.warn(msg, FutureWarning)\n"
          ]
        },
        {
          "output_type": "display_data",
          "data": {
            "text/plain": [
              "<Figure size 432x288 with 1 Axes>"
            ],
            "image/png": "[encoded data removed]"
          },
          "metadata": {
            "needs_background": "light"
          }
        }
      ]
    },
    {
      "cell_type": "code",
      "source": [
        "#Solids\n",
        "sns.distplot(a=df['Solids'], color='red',\n",
        "             hist_kws={\"edgecolor\": 'white'})\n",
        " \n",
        "plt.show()"
      ],
      "metadata": {
        "colab": {
          "base_uri": "https://localhost:8080/",
          "height": 342
        },
        "id": "H2ptBbVHgtTK",
        "outputId": "d0cb0184-b385-4d65-d787-a05ebe0cd970"
      },
      "execution_count": 13,
      "outputs": [
        {
          "output_type": "stream",
          "name": "stderr",
          "text": [
            "/usr/local/lib/python3.7/dist-packages/seaborn/distributions.py:2619: FutureWarning: `distplot` is a deprecated function and will be removed in a future version. Please adapt your code to use either `displot` (a figure-level function with similar flexibility) or `histplot` (an axes-level function for histograms).\n",
            "  warnings.warn(msg, FutureWarning)\n"
          ]
        },
        {
          "output_type": "display_data",
          "data": {
            "text/plain": [
              "<Figure size 432x288 with 1 Axes>"
            ],
            "image/png": "[encoded data removed]"
          },
          "metadata": {
            "needs_background": "light"
          }
        }
      ]
    },
    {
      "cell_type": "code",
      "source": [
        "#Chloramines\n",
        "sns.distplot(a=df['Chloramines'], color='red',\n",
        "             hist_kws={\"edgecolor\": 'white'})\n",
        " \n",
        "plt.show()"
      ],
      "metadata": {
        "colab": {
          "base_uri": "https://localhost:8080/",
          "height": 331
        },
        "id": "Y3qoDmodgveD",
        "outputId": "550b9aab-46fe-4fa2-fa9f-5cceea86a95f"
      },
      "execution_count": 14,
      "outputs": [
        {
          "output_type": "stream",
          "name": "stderr",
          "text": [
            "/usr/local/lib/python3.7/dist-packages/seaborn/distributions.py:2619: FutureWarning: `distplot` is a deprecated function and will be removed in a future version. Please adapt your code to use either `displot` (a figure-level function with similar flexibility) or `histplot` (an axes-level function for histograms).\n",
            "  warnings.warn(msg, FutureWarning)\n"
          ]
        },
        {
          "output_type": "display_data",
          "data": {
            "text/plain": [
              "<Figure size 432x288 with 1 Axes>"
            ],
            "image/png": "[encoded data removed]"
          },
          "metadata": {
            "needs_background": "light"
          }
        }
      ]
    },
    {
      "cell_type": "code",
      "source": [
        "#Sulfate\n",
        "sns.distplot(a=df['Sulfate'], color='red',\n",
        "             hist_kws={\"edgecolor\": 'white'})\n",
        " \n",
        "plt.show()"
      ],
      "metadata": {
        "colab": {
          "base_uri": "https://localhost:8080/",
          "height": 331
        },
        "id": "onXjRlMdg3MI",
        "outputId": "d2e5f5fa-39e2-4480-91ae-e327491767ed"
      },
      "execution_count": 15,
      "outputs": [
        {
          "output_type": "stream",
          "name": "stderr",
          "text": [
            "/usr/local/lib/python3.7/dist-packages/seaborn/distributions.py:2619: FutureWarning: `distplot` is a deprecated function and will be removed in a future version. Please adapt your code to use either `displot` (a figure-level function with similar flexibility) or `histplot` (an axes-level function for histograms).\n",
            "  warnings.warn(msg, FutureWarning)\n"
          ]
        },
        {
          "output_type": "display_data",
          "data": {
            "text/plain": [
              "<Figure size 432x288 with 1 Axes>"
            ],
            "image/png": "[encoded data removed]"
          },
          "metadata": {
            "needs_background": "light"
          }
        }
      ]
    },
    {
      "cell_type": "code",
      "source": [
        "#Conductivity\n",
        "sns.distplot(a=df['Conductivity'], color='red',\n",
        "             hist_kws={\"edgecolor\": 'white'})\n",
        " \n",
        "plt.show()"
      ],
      "metadata": {
        "colab": {
          "base_uri": "https://localhost:8080/",
          "height": 331
        },
        "id": "70hLz08Xg6jX",
        "outputId": "a870d802-b36c-4226-ea61-96aca9e4b2f6"
      },
      "execution_count": 16,
      "outputs": [
        {
          "output_type": "stream",
          "name": "stderr",
          "text": [
            "/usr/local/lib/python3.7/dist-packages/seaborn/distributions.py:2619: FutureWarning: `distplot` is a deprecated function and will be removed in a future version. Please adapt your code to use either `displot` (a figure-level function with similar flexibility) or `histplot` (an axes-level function for histograms).\n",
            "  warnings.warn(msg, FutureWarning)\n"
          ]
        },
        {
          "output_type": "display_data",
          "data": {
            "text/plain": [
              "<Figure size 432x288 with 1 Axes>"
            ],
            "image/png": "[encoded data removed]"
          },
          "metadata": {
            "needs_background": "light"
          }
        }
      ]
    },
    {
      "cell_type": "code",
      "source": [
        "#Organic Carbon\n",
        "sns.distplot(a=df['Organic_carbon'], color='red',\n",
        "             hist_kws={\"edgecolor\": 'white'})\n",
        " \n",
        "plt.show()"
      ],
      "metadata": {
        "colab": {
          "base_uri": "https://localhost:8080/",
          "height": 331
        },
        "id": "MzwiIDWKg9Zp",
        "outputId": "5a1bcf96-2709-419c-96ae-efb77a1790d2"
      },
      "execution_count": 17,
      "outputs": [
        {
          "output_type": "stream",
          "name": "stderr",
          "text": [
            "/usr/local/lib/python3.7/dist-packages/seaborn/distributions.py:2619: FutureWarning: `distplot` is a deprecated function and will be removed in a future version. Please adapt your code to use either `displot` (a figure-level function with similar flexibility) or `histplot` (an axes-level function for histograms).\n",
            "  warnings.warn(msg, FutureWarning)\n"
          ]
        },
        {
          "output_type": "display_data",
          "data": {
            "text/plain": [
              "<Figure size 432x288 with 1 Axes>"
            ],
            "image/png": "[encoded data removed]"
          },
          "metadata": {
            "needs_background": "light"
          }
        }
      ]
    },
    {
      "cell_type": "code",
      "source": [
        "#Trihalomethans\n",
        "sns.distplot(a=df['Trihalomethanes'], color='red',\n",
        "             hist_kws={\"edgecolor\": 'white'})\n",
        " \n",
        "plt.show()\n"
      ],
      "metadata": {
        "colab": {
          "base_uri": "https://localhost:8080/",
          "height": 331
        },
        "id": "QigpBoRUhCkA",
        "outputId": "4a68862e-2da5-4378-cfa1-e403325a8a65"
      },
      "execution_count": 18,
      "outputs": [
        {
          "output_type": "stream",
          "name": "stderr",
          "text": [
            "/usr/local/lib/python3.7/dist-packages/seaborn/distributions.py:2619: FutureWarning: `distplot` is a deprecated function and will be removed in a future version. Please adapt your code to use either `displot` (a figure-level function with similar flexibility) or `histplot` (an axes-level function for histograms).\n",
            "  warnings.warn(msg, FutureWarning)\n"
          ]
        },
        {
          "output_type": "display_data",
          "data": {
            "text/plain": [
              "<Figure size 432x288 with 1 Axes>"
            ],
            "image/png": "[encoded data removed]"
          },
          "metadata": {
            "needs_background": "light"
          }
        }
      ]
    },
    {
      "cell_type": "code",
      "source": [
        "#Turbidity\n",
        "sns.distplot(a=df['Turbidity'], color='red',\n",
        "             hist_kws={\"edgecolor\": 'white'})\n",
        " \n",
        "plt.show()"
      ],
      "metadata": {
        "colab": {
          "base_uri": "https://localhost:8080/",
          "height": 331
        },
        "id": "ly-Z1wUjhHVF",
        "outputId": "8f767203-ec77-401e-9c23-cb3c0d92be0e"
      },
      "execution_count": 19,
      "outputs": [
        {
          "output_type": "stream",
          "name": "stderr",
          "text": [
            "/usr/local/lib/python3.7/dist-packages/seaborn/distributions.py:2619: FutureWarning: `distplot` is a deprecated function and will be removed in a future version. Please adapt your code to use either `displot` (a figure-level function with similar flexibility) or `histplot` (an axes-level function for histograms).\n",
            "  warnings.warn(msg, FutureWarning)\n"
          ]
        },
        {
          "output_type": "display_data",
          "data": {
            "text/plain": [
              "<Figure size 432x288 with 1 Axes>"
            ],
            "image/png": "[encoded data removed]"
          },
          "metadata": {
            "needs_background": "light"
          }
        }
      ]
    },
    {
      "cell_type": "markdown",
      "source": [
        "We do see that all the distrbutions had a normal bell curve, and it is safe to assume this throughout the model testing phase.\n",
        "\n",
        "If we do notice more medians, we did replace NaN values with median therefore this is an expected trend in the distrbution graphs."
      ],
      "metadata": {
        "id": "34XnYdTvhdDs"
      }
    },
    {
      "cell_type": "code",
      "source": [
        "df_corr =  df[df.columns].corr()\n",
        "\n",
        "df_mask = np.zeros_like(df_corr) #array of zeros of the same shape\n",
        "df_mask[np.triu_indices_from(df_mask)] = True #turn upper triangle into ones\n",
        "\n",
        "f,ax = plt.subplots(1,1,figsize=(10,10))\n",
        "\n",
        "sb.heatmap(df_corr,vmin=-1,vmax=1,mask=df_mask,annot=True,square=True,ax=ax,cmap='coolwarm_r')"
      ],
      "metadata": {
        "colab": {
          "base_uri": "https://localhost:8080/",
          "height": 626
        },
        "id": "6NTTkmLEiheh",
        "outputId": "589e7476-2a47-44df-ced7-0ca30f3ff784"
      },
      "execution_count": 21,
      "outputs": [
        {
          "output_type": "execute_result",
          "data": {
            "text/plain": [
              "<matplotlib.axes._subplots.AxesSubplot at 0x7f2588665810>"
            ]
          },
          "metadata": {},
          "execution_count": 21
        },
        {
          "output_type": "display_data",
          "data": {
            "text/plain": [
              "<Figure size 720x720 with 2 Axes>"
            ],
            "image/png": "[encoded data removed]"
          },
          "metadata": {
            "needs_background": "light"
          }
        }
      ]
    },
    {
      "cell_type": "markdown",
      "source": [
        "There also seems to be no true correlation between variables. Usually, if there are relationships, this could help model implementation, however it appears that there is not. "
      ],
      "metadata": {
        "id": "fxl20PBdixDO"
      }
    },
    {
      "cell_type": "markdown",
      "source": [
        "# Model Experimentation\n",
        "\n",
        "As stated previously, we are dealing with a classification problem, meaning the predicted values will be placed into a 0 or 1 class (non potable versus potable).\n",
        "\n"
      ],
      "metadata": {
        "id": "RxjuXiG2holg"
      }
    },
    {
      "cell_type": "markdown",
      "source": [
        "## Splitting Data Into Train and Test Splits"
      ],
      "metadata": {
        "id": "pEBrQGZ6RBzH"
      }
    },
    {
      "cell_type": "code",
      "source": [
        "import random\n",
        "df = df.sample(frac=1)"
      ],
      "metadata": {
        "id": "Vfj7TJvWiCaM"
      },
      "execution_count": 22,
      "outputs": []
    },
    {
      "cell_type": "code",
      "source": [
        "#Create X and y dataframes then create a split \n",
        "y = df['Potability']\n",
        "X = df[['ph','Hardness','Solids','Chloramines','Sulfate', 'Conductivity', 'Organic_carbon',\n",
        "       'Trihalomethanes','Turbidity']]\n",
        "\n",
        "\n",
        "\n",
        "#Splitting data : Rule of thumb is 30 percent of data is testing data.\n",
        "X_train,X_test,y_train,y_test = train_test_split(X,y,\n",
        "                                                     test_size = .3,\n",
        "                                                     random_state = 21)"
      ],
      "metadata": {
        "id": "bIKkrwF6iBID"
      },
      "execution_count": 23,
      "outputs": []
    },
    {
      "cell_type": "markdown",
      "source": [
        "There are many ways to experiment with testing models. In this situations I will perform a rapid test of the select models, and pick the top 2 to perform hyperparameter tuning on. Since the models with lower accuracy will already be behind, hyperparameter tuning would not change the results of the top ranked performing models."
      ],
      "metadata": {
        "id": "dcnlBceGj5XC"
      }
    },
    {
      "cell_type": "markdown",
      "source": [
        "## Rapid Model Examination"
      ],
      "metadata": {
        "id": "nCkC30f5kJfa"
      }
    },
    {
      "cell_type": "code",
      "source": [
        "models =[(\"KNN\", KNeighborsClassifier(n_neighbors=3)),\n",
        "         (\"GNB\", GaussianNB()),\n",
        "        (\"LogReg\", LogisticRegression()),\n",
        "         ('RF',RandomForestClassifier()),\n",
        "        ('XGB',GradientBoostingClassifier())]"
      ],
      "metadata": {
        "id": "5Av8gwlCkMPN"
      },
      "execution_count": 24,
      "outputs": []
    },
    {
      "cell_type": "code",
      "source": [
        "def rapid_model_standard(models, X_train, X_test, y_train, y_test):\n",
        "  scaler = StandardScaler()\n",
        "  scaler.fit(X_train)\n",
        "  X_train = scaler.transform(X_train)\n",
        "  X_test = scaler.transform(X_test)\n",
        "\n",
        "  results = []\n",
        "  model_type = []\n",
        "  accuracy = []\n",
        "\n",
        "  for name,model in models:\n",
        "    model.fit(X_train, y_train)\n",
        "    model_results = model.predict(X_test)\n",
        "    score = precision_score(y_test, model_results,average='macro')\n",
        "    results.append(score)\n",
        "    model_type.append(name)\n",
        "    accuracy.append((name,score))\n",
        "    \n",
        "  accuracy.sort(key=lambda k:k[1],reverse=True)\n",
        "  print(\"With Standardization of Train and Test sets\")\n",
        "  for (name,score) in accuracy:\n",
        "    print(str(name) + \": \" + str(score))"
      ],
      "metadata": {
        "id": "kF2oCh0UmwfN"
      },
      "execution_count": 25,
      "outputs": []
    },
    {
      "cell_type": "code",
      "source": [
        "def rapid_model_without_scale(models, X_train, X_test, y_train, y_test):\n",
        "  results = []\n",
        "  model_type = []\n",
        "  accuracy = []\n",
        "\n",
        "  for name,model in models:\n",
        "    model.fit(X_train, y_train)\n",
        "    model_results = model.predict(X_test)\n",
        "    score = precision_score(y_test, model_results,average='macro')\n",
        "    results.append(score)\n",
        "    model_type.append(name)\n",
        "    accuracy.append((name,score))\n",
        "    \n",
        "  accuracy.sort(key=lambda k:k[1],reverse=True)\n",
        "  print(\"Without Standardization of Train and Test sets\")\n",
        "  for (name,score) in accuracy:\n",
        "    print(str(name) + \": \" + str(score))\n",
        "  "
      ],
      "metadata": {
        "id": "1au3uiHgk8Le"
      },
      "execution_count": 26,
      "outputs": []
    },
    {
      "cell_type": "code",
      "source": [
        "rapid_model_standard(models,X_train.copy(),X_test.copy(),y_train.copy(),y_test.copy())\n",
        "print(\"\\n\")\n",
        "rapid_model_without_scale(models,X_train,X_test,y_train,y_test)"
      ],
      "metadata": {
        "colab": {
          "base_uri": "https://localhost:8080/"
        },
        "id": "ci4yKHx3nA6t",
        "outputId": "e69c080d-44cb-448e-b945-aba7ad774b65"
      },
      "execution_count": 27,
      "outputs": [
        {
          "output_type": "stream",
          "name": "stderr",
          "text": [
            "/usr/local/lib/python3.7/dist-packages/sklearn/metrics/_classification.py:1318: UndefinedMetricWarning: Precision is ill-defined and being set to 0.0 in labels with no predicted samples. Use `zero_division` parameter to control this behavior.\n",
            "  _warn_prf(average, modifier, msg_start, len(result))\n"
          ]
        },
        {
          "output_type": "stream",
          "name": "stdout",
          "text": [
            "With Standardization of Train and Test sets\n",
            "RF: 0.691428175891666\n",
            "XGB: 0.6590278423712523\n",
            "KNN: 0.585531205382464\n",
            "GNB: 0.5751051950153747\n",
            "LogReg: 0.30366225839267547\n",
            "\n",
            "\n"
          ]
        },
        {
          "output_type": "stream",
          "name": "stderr",
          "text": [
            "/usr/local/lib/python3.7/dist-packages/sklearn/linear_model/_logistic.py:818: ConvergenceWarning: lbfgs failed to converge (status=1):\n",
            "STOP: TOTAL NO. of ITERATIONS REACHED LIMIT.\n",
            "\n",
            "Increase the number of iterations (max_iter) or scale the data as shown in:\n",
            "    https://scikit-learn.org/stable/modules/preprocessing.html\n",
            "Please also refer to the documentation for alternative solver options:\n",
            "    https://scikit-learn.org/stable/modules/linear_model.html#logistic-regression\n",
            "  extra_warning_msg=_LOGISTIC_SOLVER_CONVERGENCE_MSG,\n"
          ]
        },
        {
          "output_type": "stream",
          "name": "stdout",
          "text": [
            "Without Standardization of Train and Test sets\n",
            "LogReg: 0.8039714867617108\n",
            "XGB: 0.6590278423712523\n",
            "RF: 0.6480541455160744\n",
            "GNB: 0.5770961494645706\n",
            "KNN: 0.5076542175798187\n"
          ]
        }
      ]
    },
    {
      "cell_type": "markdown",
      "source": [
        "As seen, the results differ based off of Standardizing the datasets. In research, it has been proven, and backed by results above, that StandardScale function from sklearn boosts logistic regression results.\n",
        "\n",
        "In this case, I will continue with the top 2 from the scaling results and non scaling results. The consistent two were\n",
        "\n",
        "\n",
        "1.   Random Forest\n",
        "2.   XGBoost\n",
        "\n",
        "\n",
        "\n",
        "\n"
      ],
      "metadata": {
        "id": "echeAuSooXzU"
      }
    },
    {
      "cell_type": "markdown",
      "source": [
        "## Hyperparameter Tuning and Model Optimization"
      ],
      "metadata": {
        "id": "HPwrJKNVmgv8"
      }
    },
    {
      "cell_type": "code",
      "source": [
        "hyper_params = {\n",
        "    'XGB':\n",
        "    {\n",
        "        'model':XGBClassifier(),\n",
        "        'params':\n",
        "        {\n",
        "            'learning_rate':[0.005,0.05,0.01,0.1],\n",
        "            'n_estimators':[50,100,300,800],\n",
        "            'max_depth':[3,6,9,12]\n",
        "        }\n",
        "    },\n",
        "    'RF':\n",
        "    {\n",
        "        'model':RandomForestClassifier(),\n",
        "        'params':\n",
        "        {\n",
        "            'max_features':['auto','sqrt','log2'],\n",
        "            'n_estimators':[50,100,300,800],\n",
        "            'max_depth':[3,6,9,12]\n",
        "        }\n",
        "    }\n",
        "}"
      ],
      "metadata": {
        "id": "JQOXljWoGePW"
      },
      "execution_count": 31,
      "outputs": []
    },
    {
      "cell_type": "code",
      "source": [
        "#Repeated StratifiedKFold works best for imbalanced data sets such as this\n",
        "cv = RepeatedStratifiedKFold(n_splits=5,n_repeats=2)\n",
        "scores=[]\n",
        "for model_name,params in hyper_params.items():\n",
        "    #Using the CrossValidation allows us to find the best combination of paramters we are\n",
        "    #exploring\n",
        "    rs = RandomizedSearchCV(params['model'],params['params'],cv=cv,n_iter=5)\n",
        "    rs.fit(X,y)\n",
        "    scores.append([model_name,dict(rs.best_params_),rs.best_score_])\n",
        "data=pd.DataFrame(scores,columns=['Model','Parameters','Score'])\n",
        "data"
      ],
      "metadata": {
        "colab": {
          "base_uri": "https://localhost:8080/",
          "height": 112
        },
        "id": "zxKwYaVWGaUf",
        "outputId": "efd2b930-f6e0-4e62-b6cb-af925372458c"
      },
      "execution_count": 32,
      "outputs": [
        {
          "output_type": "execute_result",
          "data": {
            "text/plain": [
              "  Model                                         Parameters     Score\n",
              "0   XGB  {'n_estimators': 300, 'max_depth': 9, 'learnin...  0.663307\n",
              "1    RF  {'n_estimators': 50, 'max_features': 'log2', '...  0.665902"
            ],
            "text/html": [
              "\n",
              "  <div id=\"df-47b5a6f4-47d6-4d4a-b2ad-f0bb076f84f8\">\n",
              "    <div class=\"colab-df-container\">\n",
              "      <div>\n",
              "<style scoped>\n",
              "    .dataframe tbody tr th:only-of-type {\n",
              "        vertical-align: middle;\n",
              "    }\n",
              "\n",
              "    .dataframe tbody tr th {\n",
              "        vertical-align: top;\n",
              "    }\n",
              "\n",
              "    .dataframe thead th {\n",
              "        text-align: right;\n",
              "    }\n",
              "</style>\n",
              "<table border=\"1\" class=\"dataframe\">\n",
              "  <thead>\n",
              "    <tr style=\"text-align: right;\">\n",
              "      <th></th>\n",
              "      <th>Model</th>\n",
              "      <th>Parameters</th>\n",
              "      <th>Score</th>\n",
              "    </tr>\n",
              "  </thead>\n",
              "  <tbody>\n",
              "    <tr>\n",
              "      <th>0</th>\n",
              "      <td>XGB</td>\n",
              "      <td>{'n_estimators': 300, 'max_depth': 9, 'learnin...</td>\n",
              "      <td>0.663307</td>\n",
              "    </tr>\n",
              "    <tr>\n",
              "      <th>1</th>\n",
              "      <td>RF</td>\n",
              "      <td>{'n_estimators': 50, 'max_features': 'log2', '...</td>\n",
              "      <td>0.665902</td>\n",
              "    </tr>\n",
              "  </tbody>\n",
              "</table>\n",
              "</div>\n",
              "      <button class=\"colab-df-convert\" onclick=\"convertToInteractive('df-47b5a6f4-47d6-4d4a-b2ad-f0bb076f84f8')\"\n",
              "              title=\"Convert this dataframe to an interactive table.\"\n",
              "              style=\"display:none;\">\n",
              "        \n",
              "  <svg xmlns=\"http://www.w3.org/2000/svg\" height=\"24px\"viewBox=\"0 0 24 24\"\n",
              "       width=\"24px\">\n",
              "    <path d=\"M0 0h24v24H0V0z\" fill=\"none\"/>\n",
              "    <path d=\"M18.56 5.44l.94 2.06.94-2.06 2.06-.94-2.06-.94-.94-2.06-.94 2.06-2.06.94zm-11 1L8.5 8.5l.94-2.06 2.06-.94-2.06-.94L8.5 2.5l-.94 2.06-2.06.94zm10 10l.94 2.06.94-2.06 2.06-.94-2.06-.94-.94-2.06-.94 2.06-2.06.94z\"/><path d=\"M17.41 7.96l-1.37-1.37c-.4-.4-.92-.59-1.43-.59-.52 0-1.04.2-1.43.59L10.3 9.45l-7.72 7.72c-.78.78-.78 2.05 0 2.83L4 21.41c.39.39.9.59 1.41.59.51 0 1.02-.2 1.41-.59l7.78-7.78 2.81-2.81c.8-.78.8-2.07 0-2.86zM5.41 20L4 18.59l7.72-7.72 1.47 1.35L5.41 20z\"/>\n",
              "  </svg>\n",
              "      </button>\n",
              "      \n",
              "  <style>\n",
              "    .colab-df-container {\n",
              "      display:flex;\n",
              "      flex-wrap:wrap;\n",
              "      gap: 12px;\n",
              "    }\n",
              "\n",
              "    .colab-df-convert {\n",
              "      background-color: #E8F0FE;\n",
              "      border: none;\n",
              "      border-radius: 50%;\n",
              "      cursor: pointer;\n",
              "      display: none;\n",
              "      fill: #1967D2;\n",
              "      height: 32px;\n",
              "      padding: 0 0 0 0;\n",
              "      width: 32px;\n",
              "    }\n",
              "\n",
              "    .colab-df-convert:hover {\n",
              "      background-color: #E2EBFA;\n",
              "      box-shadow: 0px 1px 2px rgba(60, 64, 67, 0.3), 0px 1px 3px 1px rgba(60, 64, 67, 0.15);\n",
              "      fill: #174EA6;\n",
              "    }\n",
              "\n",
              "    [theme=dark] .colab-df-convert {\n",
              "      background-color: #3B4455;\n",
              "      fill: #D2E3FC;\n",
              "    }\n",
              "\n",
              "    [theme=dark] .colab-df-convert:hover {\n",
              "      background-color: #434B5C;\n",
              "      box-shadow: 0px 1px 3px 1px rgba(0, 0, 0, 0.15);\n",
              "      filter: drop-shadow(0px 1px 2px rgba(0, 0, 0, 0.3));\n",
              "      fill: #FFFFFF;\n",
              "    }\n",
              "  </style>\n",
              "\n",
              "      <script>\n",
              "        const buttonEl =\n",
              "          document.querySelector('#df-47b5a6f4-47d6-4d4a-b2ad-f0bb076f84f8 button.colab-df-convert');\n",
              "        buttonEl.style.display =\n",
              "          google.colab.kernel.accessAllowed ? 'block' : 'none';\n",
              "\n",
              "        async function convertToInteractive(key) {\n",
              "          const element = document.querySelector('#df-47b5a6f4-47d6-4d4a-b2ad-f0bb076f84f8');\n",
              "          const dataTable =\n",
              "            await google.colab.kernel.invokeFunction('convertToInteractive',\n",
              "                                                     [key], {});\n",
              "          if (!dataTable) return;\n",
              "\n",
              "          const docLinkHtml = 'Like what you see? Visit the ' +\n",
              "            '<a target=\"_blank\" href=https://colab.research.google.com/notebooks/data_table.ipynb>data table notebook</a>'\n",
              "            + ' to learn more about interactive tables.';\n",
              "          element.innerHTML = '';\n",
              "          dataTable['output_type'] = 'display_data';\n",
              "          await google.colab.output.renderOutput(dataTable, element);\n",
              "          const docLink = document.createElement('div');\n",
              "          docLink.innerHTML = docLinkHtml;\n",
              "          element.appendChild(docLink);\n",
              "        }\n",
              "      </script>\n",
              "    </div>\n",
              "  </div>\n",
              "  "
            ]
          },
          "metadata": {},
          "execution_count": 32
        }
      ]
    },
    {
      "cell_type": "markdown",
      "source": [
        "We notice that even with parameter tuning, Cross Validation, and K Fold, the scores are hovering 66% accuracy."
      ],
      "metadata": {
        "id": "wbzgr91TCrpy"
      }
    },
    {
      "cell_type": "markdown",
      "source": [
        "# Conclusion\n",
        "\n",
        "\n",
        "1.   No Correlation between **metrics** and **water potability**\n",
        "2.   Filling missing data with median kept normal distrbution / enforced normaility\n",
        "3.   **XGBoost and Random Forest** were consistently better in terms of accuracy over the other tested models. While Logistic Regression did well with a standardization method, XGBoost and RandomForest were at the top of both categories\n",
        "4.   ** Hyper-parameter tuning** with\n",
        "\n",
        "\n",
        "*   n_estimators, max depth, learning rate (For XGBoost) increased accuracy by 1\n",
        "*   n_estimators, max features, max depth (For Random Forest) increased accuracy by 1.5\n",
        "\n",
        "5.   Even with Cross Validation for parameter selecting, and K Fold as a sampling solution for underpresented metrics, **the accuracy did not increase enough**\n",
        "\n",
        "\n",
        "In result, the reasoning can be either the distrbution of the set in terms of potability, or the fact that there did not seem to be significance in variables (Sulfate,Solids, etc.) with the target variable.\n",
        "\n",
        "\n",
        "\n"
      ],
      "metadata": {
        "id": "fD2MPd_4C0WP"
      }
    },
    {
      "cell_type": "markdown",
      "source": [
        "# Next Steps\n",
        "\n",
        "1.  If I were to continue with this topic of water quality, I would need to collect more data to balance data set.\n",
        "2.  Implement a Neural Network model, which could yield better results by learning the appropriate feature set.\n",
        "\n"
      ],
      "metadata": {
        "id": "Uwq17uf9EFTE"
      }
    }
  ]
}